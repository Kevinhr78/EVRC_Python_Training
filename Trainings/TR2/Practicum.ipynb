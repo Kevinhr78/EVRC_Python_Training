{
 "cells": [
  {
   "cell_type": "markdown",
   "id": "2f27ccaa-3a77-4a03-b3f9-c0e9de796dca",
   "metadata": {},
   "source": [
    "This notebook is intended to accompany the lecture for training 2 and will demonstrate some important features of python types - look through the slides for more infomration"
   ]
  },
  {
   "cell_type": "code",
   "execution_count": 3,
   "id": "8b82cc07-2d36-44e1-afec-dc4945d4643d",
   "metadata": {
    "tags": []
   },
   "outputs": [
    {
     "name": "stdout",
     "output_type": "stream",
     "text": [
      "1 1 True\n",
      "1.0 1.0 True\n",
      "True True True\n"
     ]
    }
   ],
   "source": [
    "'''\n",
    "Primitives in Python are ints, floats, and bools, they are initialized as follows\n",
    "'''\n",
    "\n",
    "#Initializing an int\n",
    "a = 1\n",
    "b = int(1)\n",
    "print(a, b, a==b)\n",
    "\n",
    "#Initializing a float\n",
    "\n",
    "c = 1.\n",
    "d = float(1)\n",
    "print(c, d, c==d)\n",
    "\n",
    "#Initializing a float\n",
    "\n",
    "e = True\n",
    "f = bool(1)\n",
    "print(e, f, e==f)"
   ]
  },
  {
   "cell_type": "code",
   "execution_count": 5,
   "id": "a3f39bec-0b7c-4d4c-820a-0cbd0f53ad52",
   "metadata": {
    "tags": []
   },
   "outputs": [
    {
     "name": "stdout",
     "output_type": "stream",
     "text": [
      "<class 'float'>\n"
     ]
    }
   ],
   "source": [
    "'''\n",
    "Arithmetic operations between primitives produce results in the more general type\n",
    "bool < int < float\n",
    "\n",
    "What type will this expression return for a? Why?\n",
    "a = 1 + 3. * False\n",
    "'''\n",
    "\n",
    "a = 1 + 3. * False\n",
    "print(type(a))"
   ]
  },
  {
   "cell_type": "markdown",
   "id": "5319e696-d132-48cf-b39d-321913f31604",
   "metadata": {},
   "source": [
    "Python's basic array-types are strings, lists, dicts, tuples, and sets. We're going to ignore sets for now. Array-types ontain multiple values and may be iterable. The basic array-types in python will be explored below:"
   ]
  },
  {
   "cell_type": "code",
   "execution_count": 6,
   "id": "3cdc1e58-584d-488f-8456-b65a8db7d1b2",
   "metadata": {
    "tags": []
   },
   "outputs": [
    {
     "name": "stdout",
     "output_type": "stream",
     "text": [
      "1 1 True\n"
     ]
    }
   ],
   "source": [
    "'''\n",
    "First strings - the Python class is str and strings can be initialized as follows\n",
    "'''\n",
    "\n",
    "a = '1'\n",
    "b = str(1)\n",
    "print(a, b, a==b)"
   ]
  },
  {
   "cell_type": "code",
   "execution_count": 8,
   "id": "3ab6c612-0924-4e65-94e4-9eb216776cc7",
   "metadata": {
    "tags": []
   },
   "outputs": [
    {
     "name": "stdout",
     "output_type": "stream",
     "text": [
      "a\n"
     ]
    }
   ],
   "source": [
    "'''\n",
    "Most languages have a primitive character type but python does not, all ascii characters\n",
    "part of the iterable type str, even if there is only one element.\n",
    "\n",
    "The following will execute:\n",
    "'''\n",
    "\n",
    "a = 'a'\n",
    "print(a[0])"
   ]
  },
  {
   "cell_type": "code",
   "execution_count": 9,
   "id": "430047c9-1ba9-4150-9161-2f4d2790f982",
   "metadata": {
    "tags": []
   },
   "outputs": [
    {
     "ename": "TypeError",
     "evalue": "'int' object is not subscriptable",
     "output_type": "error",
     "traceback": [
      "\u001b[0;31m---------------------------------------------------------------------------\u001b[0m",
      "\u001b[0;31mTypeError\u001b[0m                                 Traceback (most recent call last)",
      "Cell \u001b[0;32mIn[9], line 6\u001b[0m\n\u001b[1;32m      1\u001b[0m \u001b[38;5;124;03m'''\u001b[39;00m\n\u001b[1;32m      2\u001b[0m \u001b[38;5;124;03mThe following will NOT execute:\u001b[39;00m\n\u001b[1;32m      3\u001b[0m \u001b[38;5;124;03m'''\u001b[39;00m\n\u001b[1;32m      5\u001b[0m a \u001b[38;5;241m=\u001b[39m \u001b[38;5;241m1\u001b[39m\n\u001b[0;32m----> 6\u001b[0m \u001b[38;5;28mprint\u001b[39m(a[\u001b[38;5;241m0\u001b[39m])\n",
      "\u001b[0;31mTypeError\u001b[0m: 'int' object is not subscriptable"
     ]
    }
   ],
   "source": [
    "'''\n",
    "The following will NOT execute:\n",
    "'''\n",
    "\n",
    "a = 1\n",
    "print(a[0])"
   ]
  },
  {
   "cell_type": "markdown",
   "id": "981483bc-0a8f-4e1a-92a9-e1118487b23a",
   "metadata": {},
   "source": [
    "The error message says 'TypeError: 'int' object is not subscriptable' because a is defined as an int and an int is a primitive."
   ]
  },
  {
   "cell_type": "code",
   "execution_count": 13,
   "id": "5ce5a621-0274-45c4-861d-1da24f075ba4",
   "metadata": {
    "tags": []
   },
   "outputs": [
    {
     "name": "stdout",
     "output_type": "stream",
     "text": [
      "a is [0, 1, 2, 3, 4]\n",
      "its first element is a[0]\n",
      "its last element is a[-1]\n",
      "its forst three elements are a[:3]\n"
     ]
    }
   ],
   "source": [
    "'''\n",
    "Subscriptable means that a single element or a slice of consecutive elements can be \n",
    "utilized from an array-type\n",
    "\n",
    "Subscriptable variables can be called as follows\n",
    "'''\n",
    "\n",
    "a = [i for i in range(5)]\n",
    "\n",
    "print(f'a is {a}')\n",
    "print(f'its first element is a[0]')\n",
    "print(f'its last element is a[-1]')\n",
    "print(f'its first three elements are a[:3]')"
   ]
  },
  {
   "cell_type": "code",
   "execution_count": 17,
   "id": "a271831c-99e2-4729-bc26-16d557e7dc07",
   "metadata": {
    "tags": []
   },
   "outputs": [
    {
     "name": "stdout",
     "output_type": "stream",
     "text": [
      "True\n",
      "True\n",
      "True\n",
      "True\n",
      "False\n",
      "False\n",
      "False\n"
     ]
    }
   ],
   "source": [
    "'''\n",
    "If an item is iterable (list, dict, str, tuple) then it has a __iter __ attribute\n",
    "'''\n",
    "\n",
    "print(hasattr(list(), '__iter__'))\n",
    "print(hasattr(dict(), '__iter__'))\n",
    "print(hasattr(str(), '__iter__'))\n",
    "print(hasattr(tuple(), '__iter__'))\n",
    "print(hasattr(int(), '__iter__'))\n",
    "print(hasattr(float(), '__iter__'))\n",
    "print(hasattr(bool(), '__iter__'))"
   ]
  },
  {
   "cell_type": "code",
   "execution_count": 21,
   "id": "513ffaea-7a87-4780-8db3-395631d9a641",
   "metadata": {
    "tags": []
   },
   "outputs": [
    {
     "name": "stdout",
     "output_type": "stream",
     "text": [
      "[1, 2, 3, 4]\n",
      "1 2 3 4 \n"
     ]
    },
    {
     "ename": "TypeError",
     "evalue": "unsupported operand type(s) for +: 'dict' and 'dict'",
     "output_type": "error",
     "traceback": [
      "\u001b[0;31m---------------------------------------------------------------------------\u001b[0m",
      "\u001b[0;31mTypeError\u001b[0m                                 Traceback (most recent call last)",
      "Cell \u001b[0;32mIn[21], line 16\u001b[0m\n\u001b[1;32m     14\u001b[0m e \u001b[38;5;241m=\u001b[39m {\u001b[38;5;241m1\u001b[39m:\u001b[38;5;241m1\u001b[39m, \u001b[38;5;241m2\u001b[39m:\u001b[38;5;241m2\u001b[39m}\n\u001b[1;32m     15\u001b[0m f \u001b[38;5;241m=\u001b[39m {\u001b[38;5;241m3\u001b[39m:\u001b[38;5;241m3\u001b[39m, \u001b[38;5;241m4\u001b[39m:\u001b[38;5;241m4\u001b[39m}\n\u001b[0;32m---> 16\u001b[0m \u001b[38;5;28mprint\u001b[39m(e \u001b[38;5;241m+\u001b[39m f)\n",
      "\u001b[0;31mTypeError\u001b[0m: unsupported operand type(s) for +: 'dict' and 'dict'"
     ]
    }
   ],
   "source": [
    "'''\n",
    "For Python integer-indexed iterables, the + sign concatenates but for dicts, this does\n",
    "not work\n",
    "\n",
    "See also the append() and extend() properties of lists\n",
    "'''\n",
    "\n",
    "a = [1, 2]\n",
    "b = [3, 4]\n",
    "print(a + b)\n",
    "\n",
    "c = '1 2 '\n",
    "d = '3 4 '\n",
    "print(c + d)\n",
    "\n",
    "e = {1:1, 2:2}\n",
    "f = {3:3, 4:4}\n",
    "print(e + f)"
   ]
  },
  {
   "cell_type": "code",
   "execution_count": 23,
   "id": "803d41bb-590e-4744-b495-3ff0df46f81f",
   "metadata": {
    "tags": []
   },
   "outputs": [
    {
     "name": "stdout",
     "output_type": "stream",
     "text": [
      "[1, 2, 1, 2, 1, 2, 1, 2, 1, 2]\n",
      "1 2 1 2 1 2 1 2 1 2 \n"
     ]
    },
    {
     "ename": "TypeError",
     "evalue": "unsupported operand type(s) for *: 'dict' and 'int'",
     "output_type": "error",
     "traceback": [
      "\u001b[0;31m---------------------------------------------------------------------------\u001b[0m",
      "\u001b[0;31mTypeError\u001b[0m                                 Traceback (most recent call last)",
      "Cell \u001b[0;32mIn[23], line 13\u001b[0m\n\u001b[1;32m     10\u001b[0m \u001b[38;5;28mprint\u001b[39m(c \u001b[38;5;241m*\u001b[39m \u001b[38;5;241m5\u001b[39m)\n\u001b[1;32m     12\u001b[0m e \u001b[38;5;241m=\u001b[39m {\u001b[38;5;241m1\u001b[39m:\u001b[38;5;241m1\u001b[39m, \u001b[38;5;241m2\u001b[39m:\u001b[38;5;241m2\u001b[39m}\n\u001b[0;32m---> 13\u001b[0m \u001b[38;5;28mprint\u001b[39m(e \u001b[38;5;241m*\u001b[39m \u001b[38;5;241m5\u001b[39m)\n",
      "\u001b[0;31mTypeError\u001b[0m: unsupported operand type(s) for *: 'dict' and 'int'"
     ]
    }
   ],
   "source": [
    "'''\n",
    "For Python integer-indexed iterables, the * sign tiles but for dicts, this does\n",
    "not work\n",
    "'''\n",
    "\n",
    "a = [1, 2]\n",
    "print(a * 5)\n",
    "\n",
    "c = '1 2 '\n",
    "print(c * 5)\n",
    "\n",
    "e = {1:1, 2:2}\n",
    "print(e * 5)"
   ]
  },
  {
   "cell_type": "code",
   "execution_count": 32,
   "id": "e1fa46ce-0803-49e2-ae82-4e590db6c0ea",
   "metadata": {
    "tags": []
   },
   "outputs": [
    {
     "name": "stdout",
     "output_type": "stream",
     "text": [
      "1\n",
      "dd\n",
      "{'f': 55.3}\n",
      "True\n",
      "<generator object <genexpr> at 0x7ffa0a8253c0>\n",
      "\n",
      "1\n",
      "dd\n",
      "{'f': 55.3}\n",
      "True\n",
      "<generator object <genexpr> at 0x7ffa0a8253c0>\n",
      "\n",
      "0 1\n",
      "1 dd\n",
      "2 {'f': 55.3}\n",
      "3 True\n",
      "4 <generator object <genexpr> at 0x7ffa0a8253c0>\n"
     ]
    }
   ],
   "source": [
    "'''\n",
    "Iterating through a list-like is straightforward and there are multiple options\n",
    "'''\n",
    "\n",
    "a = [1, 'dd', {'f':55.3}, True, (idx for idx in range(5))]\n",
    "#The simplest is just pulling the elements\n",
    "for element in a:\n",
    "    print(element)\n",
    "\n",
    "print('')\n",
    "\n",
    "#We can also pull elemnts by index\n",
    "for index in range(len(a)):\n",
    "    print(a[index])\n",
    "    \n",
    "print('')\n",
    "\n",
    "#We can get the index and element using enumerate()\n",
    "for index,element in enumerate(a):\n",
    "    print(index, element)"
   ]
  },
  {
   "cell_type": "code",
   "execution_count": 33,
   "id": "3e50341e-5d23-44fa-8a7f-cdd97b3bdee7",
   "metadata": {
    "tags": []
   },
   "outputs": [
    {
     "name": "stdout",
     "output_type": "stream",
     "text": [
      "Bob\n",
      "Alice\n",
      "Jane\n",
      "Carl\n",
      "\n",
      "184\n",
      "161\n",
      "167\n",
      "178\n",
      "\n",
      "Bob 184\n",
      "Alice 161\n",
      "Jane 167\n",
      "Carl 178\n"
     ]
    }
   ],
   "source": [
    "'''\n",
    "Iterating through a dict-like requires using the keys(), values(), or items() attributes\n",
    "'''\n",
    "\n",
    "heights = {'Bob':184, 'Alice':161, 'Jane':167, 'Carl':178}\n",
    "\n",
    "for key in heights.keys():\n",
    "    print(key)\n",
    "\n",
    "print('')\n",
    "\n",
    "for value in heights.values():\n",
    "    print(value)\n",
    "\n",
    "print('')\n",
    "\n",
    "for key,value in heights.items():\n",
    "    print(key, value)"
   ]
  },
  {
   "cell_type": "code",
   "execution_count": 42,
   "id": "98a8efaa-cc51-4cc2-94f8-9b5126ce3e27",
   "metadata": {
    "tags": []
   },
   "outputs": [
    {
     "name": "stdout",
     "output_type": "stream",
     "text": [
      "[[0], [1], [2], [3], [4]] \n",
      "\n",
      "[0, 1, 2, 3, 4] \n",
      "\n",
      "{'0': 0, '1': 1, '2': 2, '3': 3, '4': 4} \n",
      "\n",
      "{'0': 0, '1': 1, '2': 2, '3': 3, '4': 4} \n",
      "\n"
     ]
    }
   ],
   "source": [
    "'''\n",
    "Lists and dicts are very flexible data types and they can be edited in many ways\n",
    "\n",
    "among these are:\n",
    "'''\n",
    "\n",
    "#Appending for lists\n",
    "a = []\n",
    "for idx in range(5):\n",
    "    a.append([idx])\n",
    "\n",
    "print(a,'\\n')\n",
    "\n",
    "#Concatenation for lists\n",
    "a = []\n",
    "for idx in range(5):\n",
    "    a.extend([idx])\n",
    "\n",
    "print(a,'\\n')\n",
    "\n",
    "#Appending for dicts\n",
    "a = {}\n",
    "for idx in range(5):\n",
    "    a[f'{idx}']=idx\n",
    "\n",
    "print(a,'\\n')\n",
    "\n",
    "#Concatenation for dicts\n",
    "a = {}\n",
    "for idx in range(5):\n",
    "    a = dict(**a, **{f'{idx}':idx})\n",
    "\n",
    "print(a,'\\n')"
   ]
  },
  {
   "cell_type": "code",
   "execution_count": 44,
   "id": "ea26452e-8b8f-45af-a697-4a510658a1e3",
   "metadata": {
    "tags": []
   },
   "outputs": [
    {
     "ename": "AttributeError",
     "evalue": "'tuple' object has no attribute 'append'",
     "output_type": "error",
     "traceback": [
      "\u001b[0;31m---------------------------------------------------------------------------\u001b[0m",
      "\u001b[0;31mAttributeError\u001b[0m                            Traceback (most recent call last)",
      "Cell \u001b[0;32mIn[44], line 7\u001b[0m\n\u001b[1;32m      5\u001b[0m a \u001b[38;5;241m=\u001b[39m \u001b[38;5;28mtuple\u001b[39m()\n\u001b[1;32m      6\u001b[0m \u001b[38;5;28;01mfor\u001b[39;00m idx \u001b[38;5;129;01min\u001b[39;00m \u001b[38;5;28mrange\u001b[39m(\u001b[38;5;241m5\u001b[39m):\n\u001b[0;32m----> 7\u001b[0m     a\u001b[38;5;241m.\u001b[39mappend([idx])\n\u001b[1;32m      9\u001b[0m \u001b[38;5;28mprint\u001b[39m(a,\u001b[38;5;124m'\u001b[39m\u001b[38;5;130;01m\\n\u001b[39;00m\u001b[38;5;124m'\u001b[39m)\n",
      "\u001b[0;31mAttributeError\u001b[0m: 'tuple' object has no attribute 'append'"
     ]
    }
   ],
   "source": [
    "'''\n",
    "Tuples are an iterable and subscriptable type which cannot be edited\n",
    "'''\n",
    "\n",
    "a = tuple()\n",
    "for idx in range(5):\n",
    "    a.append([idx])\n",
    "\n",
    "print(a,'\\n')"
   ]
  }
 ],
 "metadata": {
  "kernelspec": {
   "display_name": "Python 3 (ipykernel)",
   "language": "python",
   "name": "python3"
  },
  "language_info": {
   "codemirror_mode": {
    "name": "ipython",
    "version": 3
   },
   "file_extension": ".py",
   "mimetype": "text/x-python",
   "name": "python",
   "nbconvert_exporter": "python",
   "pygments_lexer": "ipython3",
   "version": "3.11.3"
  }
 },
 "nbformat": 4,
 "nbformat_minor": 5
}
